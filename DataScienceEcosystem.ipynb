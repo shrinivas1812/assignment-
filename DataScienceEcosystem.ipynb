{
 "cells": [
  {
   "cell_type": "markdown",
   "id": "526e132e-5ca7-40c6-bb5d-205e1020ab2d",
   "metadata": {},
   "source": [
    "# Data Science Tools and Ecosystem"
   ]
  },
  {
   "cell_type": "markdown",
   "id": "9bd4be4a-9184-43ad-adb1-1a6c9e03f296",
   "metadata": {},
   "source": [
    "## In this notebook, Data Science Tools and Ecosystem are summerized.  "
   ]
  },
  {
   "cell_type": "markdown",
   "id": "042bc36a-a274-4a43-87cb-d8a3ff2bd451",
   "metadata": {},
   "source": [
    "#### some of the popular language that data scientist use are:\n",
    "1. python\n",
    "2. R\n",
    "3. scala\n",
    "4. java\n",
    "\n"
   ]
  },
  {
   "cell_type": "markdown",
   "id": "1bac10b1-5537-41f8-9f8d-112071d12ccd",
   "metadata": {},
   "source": [
    "#### some of the commonly used libraries used by data scientist include:\n",
    "1. matpotlib\n",
    "2. gglab\n",
    "3. vegas\n",
    "4. tenserflow\n",
    "5. pandas\n",
    "6. scikit-learn"
   ]
  },
  {
   "cell_type": "markdown",
   "id": "af9cbcee-db26-4ca6-966f-5a1a9f796f63",
   "metadata": {},
   "source": [
    "\n",
    "Table for data science tools:\n",
    "| Data Science Tools: | VS code | GitLab | Posthog |\n",
    "| ------------------ | --- | --- | --- |"
   ]
  },
  {
   "cell_type": "markdown",
   "id": "ddd012d3-04e5-4025-a295-46f3cf683fc3",
   "metadata": {
    "tags": []
   },
   "source": [
    "### below are a few examples of arithmetic operations in python\n"
   ]
  },
  {
   "cell_type": "code",
   "execution_count": 5,
   "id": "a4918f1b-308f-4e59-a6f5-e34535a56dd7",
   "metadata": {},
   "outputs": [
    {
     "data": {
      "text/plain": [
       "17"
      ]
     },
     "execution_count": 5,
     "metadata": {},
     "output_type": "execute_result"
    }
   ],
   "source": [
    "(3*4)+5"
   ]
  },
  {
   "cell_type": "code",
   "execution_count": 6,
   "id": "ce2cdb8a-0b9a-4af6-b252-81c4e19e09ec",
   "metadata": {},
   "outputs": [
    {
     "data": {
      "text/plain": [
       "1.6666666666666667"
      ]
     },
     "execution_count": 6,
     "metadata": {},
     "output_type": "execute_result"
    }
   ],
   "source": [
    "#this will convert 100 minutes into hours by dividing by 60\n",
    "100/60"
   ]
  },
  {
   "cell_type": "markdown",
   "id": "db0f1a7a-869f-402d-967f-6af464b30b5a",
   "metadata": {},
   "source": [
    "### objective of this notebook\n",
    "    * popular language for Data Science\n",
    "    * commonly used libraries in Data Science\n",
    "    * table showing open source development environment tools\n",
    "    * arithmetic operations in python\n",
    "    * conversion of minutes to hours using python language\n",
    "    "
   ]
  },
  {
   "cell_type": "markdown",
   "id": "438b8275-4c58-4184-8367-aac094aec1e3",
   "metadata": {},
   "source": [
    "## Author \n",
    "   ## shrinivas kulkarni "
   ]
  }
 ],
 "metadata": {
  "kernelspec": {
   "display_name": "Python",
   "language": "python",
   "name": "conda-env-python-py"
  },
  "language_info": {
   "codemirror_mode": {
    "name": "ipython",
    "version": 3
   },
   "file_extension": ".py",
   "mimetype": "text/x-python",
   "name": "python",
   "nbconvert_exporter": "python",
   "pygments_lexer": "ipython3",
   "version": "3.7.12"
  }
 },
 "nbformat": 4,
 "nbformat_minor": 5
}
